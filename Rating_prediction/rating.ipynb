{
 "cells": [
  {
   "cell_type": "code",
   "execution_count": 1,
   "metadata": {
    "collapsed": true
   },
   "outputs": [],
   "source": [
    "import pandas as pd\n",
    "df = pd.read_csv(\"train.csv\")"
   ]
  },
  {
   "cell_type": "code",
   "execution_count": 2,
   "metadata": {
    "collapsed": false
   },
   "outputs": [
    {
     "data": {
      "text/html": [
       "<div>\n",
       "<style scoped>\n",
       "    .dataframe tbody tr th:only-of-type {\n",
       "        vertical-align: middle;\n",
       "    }\n",
       "\n",
       "    .dataframe tbody tr th {\n",
       "        vertical-align: top;\n",
       "    }\n",
       "\n",
       "    .dataframe thead th {\n",
       "        text-align: right;\n",
       "    }\n",
       "</style>\n",
       "<table border=\"1\" class=\"dataframe\">\n",
       "  <thead>\n",
       "    <tr style=\"text-align: right;\">\n",
       "      <th></th>\n",
       "      <th>ID</th>\n",
       "      <th>Place</th>\n",
       "      <th>location</th>\n",
       "      <th>date</th>\n",
       "      <th>status</th>\n",
       "      <th>job_title</th>\n",
       "      <th>summary</th>\n",
       "      <th>positives</th>\n",
       "      <th>negatives</th>\n",
       "      <th>advice_to_mgmt</th>\n",
       "      <th>score_1</th>\n",
       "      <th>score_2</th>\n",
       "      <th>score_3</th>\n",
       "      <th>score_4</th>\n",
       "      <th>score_5</th>\n",
       "      <th>score_6</th>\n",
       "      <th>overall</th>\n",
       "    </tr>\n",
       "  </thead>\n",
       "  <tbody>\n",
       "    <tr>\n",
       "      <th>0</th>\n",
       "      <td>1</td>\n",
       "      <td>startup_1</td>\n",
       "      <td>NaN</td>\n",
       "      <td>Dec 11, 2018</td>\n",
       "      <td>Current Employee</td>\n",
       "      <td>Anonymous Employee</td>\n",
       "      <td>Best Company to work for</td>\n",
       "      <td>People are smart and friendly</td>\n",
       "      <td>Bureaucracy is slowing things down</td>\n",
       "      <td>NaN</td>\n",
       "      <td>4.0</td>\n",
       "      <td>5.0</td>\n",
       "      <td>5.0</td>\n",
       "      <td>4.0</td>\n",
       "      <td>5.0</td>\n",
       "      <td>0</td>\n",
       "      <td>5.0</td>\n",
       "    </tr>\n",
       "    <tr>\n",
       "      <th>1</th>\n",
       "      <td>2</td>\n",
       "      <td>startup_1</td>\n",
       "      <td>Mountain View, CA</td>\n",
       "      <td>Jun 21, 2013</td>\n",
       "      <td>Former Employee</td>\n",
       "      <td>Program Manager</td>\n",
       "      <td>Moving at the speed of light, burn out is inev...</td>\n",
       "      <td>1) Food, food, food. 15+ cafes on main campus ...</td>\n",
       "      <td>1) Work/life balance. What balance? All those ...</td>\n",
       "      <td>1) Don't dismiss emotional intelligence and ad...</td>\n",
       "      <td>2.0</td>\n",
       "      <td>3.0</td>\n",
       "      <td>3.0</td>\n",
       "      <td>5.0</td>\n",
       "      <td>3.0</td>\n",
       "      <td>2094</td>\n",
       "      <td>5.0</td>\n",
       "    </tr>\n",
       "    <tr>\n",
       "      <th>2</th>\n",
       "      <td>3</td>\n",
       "      <td>startup_1</td>\n",
       "      <td>New York, NY</td>\n",
       "      <td>May 10, 2014</td>\n",
       "      <td>Current Employee</td>\n",
       "      <td>Software Engineer III</td>\n",
       "      <td>Great balance between big-company security and...</td>\n",
       "      <td>* If you're a software engineer, you're among ...</td>\n",
       "      <td>* It *is* becoming larger, and with it comes g...</td>\n",
       "      <td>Keep the focus on the user. Everything else wi...</td>\n",
       "      <td>5.0</td>\n",
       "      <td>4.0</td>\n",
       "      <td>5.0</td>\n",
       "      <td>5.0</td>\n",
       "      <td>4.0</td>\n",
       "      <td>949</td>\n",
       "      <td>5.0</td>\n",
       "    </tr>\n",
       "    <tr>\n",
       "      <th>3</th>\n",
       "      <td>4</td>\n",
       "      <td>startup_1</td>\n",
       "      <td>Mountain View, CA</td>\n",
       "      <td>Feb 8, 2015</td>\n",
       "      <td>Current Employee</td>\n",
       "      <td>Anonymous Employee</td>\n",
       "      <td>The best place I've worked and also the most d...</td>\n",
       "      <td>You can't find a more well-regarded company th...</td>\n",
       "      <td>I live in SF so the commute can take between 1...</td>\n",
       "      <td>Keep on NOT micromanaging - that is a huge ben...</td>\n",
       "      <td>2.0</td>\n",
       "      <td>5.0</td>\n",
       "      <td>5.0</td>\n",
       "      <td>4.0</td>\n",
       "      <td>5.0</td>\n",
       "      <td>498</td>\n",
       "      <td>4.0</td>\n",
       "    </tr>\n",
       "    <tr>\n",
       "      <th>4</th>\n",
       "      <td>10</td>\n",
       "      <td>startup_1</td>\n",
       "      <td>NaN</td>\n",
       "      <td>Dec 9, 2018</td>\n",
       "      <td>Current Employee</td>\n",
       "      <td>Anonymous Employee</td>\n",
       "      <td>Execellent for engineers</td>\n",
       "      <td>Impact driven. Best tech in the world.</td>\n",
       "      <td>Size matters. Engineers are a bit disconnected...</td>\n",
       "      <td>NaN</td>\n",
       "      <td>5.0</td>\n",
       "      <td>5.0</td>\n",
       "      <td>5.0</td>\n",
       "      <td>5.0</td>\n",
       "      <td>5.0</td>\n",
       "      <td>0</td>\n",
       "      <td>4.0</td>\n",
       "    </tr>\n",
       "  </tbody>\n",
       "</table>\n",
       "</div>"
      ],
      "text/plain": [
       "   ID      Place           location           date             status  \\\n",
       "0   1  startup_1                NaN   Dec 11, 2018  Current Employee    \n",
       "1   2  startup_1  Mountain View, CA   Jun 21, 2013   Former Employee    \n",
       "2   3  startup_1       New York, NY   May 10, 2014  Current Employee    \n",
       "3   4  startup_1  Mountain View, CA    Feb 8, 2015  Current Employee    \n",
       "4  10  startup_1                NaN    Dec 9, 2018  Current Employee    \n",
       "\n",
       "                job_title                                            summary  \\\n",
       "0      Anonymous Employee                           Best Company to work for   \n",
       "1         Program Manager  Moving at the speed of light, burn out is inev...   \n",
       "2   Software Engineer III  Great balance between big-company security and...   \n",
       "3      Anonymous Employee  The best place I've worked and also the most d...   \n",
       "4      Anonymous Employee                           Execellent for engineers   \n",
       "\n",
       "                                           positives  \\\n",
       "0                      People are smart and friendly   \n",
       "1  1) Food, food, food. 15+ cafes on main campus ...   \n",
       "2  * If you're a software engineer, you're among ...   \n",
       "3  You can't find a more well-regarded company th...   \n",
       "4             Impact driven. Best tech in the world.   \n",
       "\n",
       "                                           negatives  \\\n",
       "0                 Bureaucracy is slowing things down   \n",
       "1  1) Work/life balance. What balance? All those ...   \n",
       "2  * It *is* becoming larger, and with it comes g...   \n",
       "3  I live in SF so the commute can take between 1...   \n",
       "4  Size matters. Engineers are a bit disconnected...   \n",
       "\n",
       "                                      advice_to_mgmt  score_1  score_2  \\\n",
       "0                                                NaN      4.0      5.0   \n",
       "1  1) Don't dismiss emotional intelligence and ad...      2.0      3.0   \n",
       "2  Keep the focus on the user. Everything else wi...      5.0      4.0   \n",
       "3  Keep on NOT micromanaging - that is a huge ben...      2.0      5.0   \n",
       "4                                                NaN      5.0      5.0   \n",
       "\n",
       "   score_3  score_4  score_5  score_6  overall  \n",
       "0      5.0      4.0      5.0        0      5.0  \n",
       "1      3.0      5.0      3.0     2094      5.0  \n",
       "2      5.0      5.0      4.0      949      5.0  \n",
       "3      5.0      4.0      5.0      498      4.0  \n",
       "4      5.0      5.0      5.0        0      4.0  "
      ]
     },
     "execution_count": 2,
     "metadata": {},
     "output_type": "execute_result"
    }
   ],
   "source": [
    "df.head()"
   ]
  },
  {
   "cell_type": "code",
   "execution_count": 3,
   "metadata": {
    "collapsed": false
   },
   "outputs": [],
   "source": [
    "df = df.drop([\"Place\", \"ID\", \"date\", \"status\", \"job_title\", \"advice_to_mgmt\", \"location\"], axis=1)"
   ]
  },
  {
   "cell_type": "code",
   "execution_count": 4,
   "metadata": {
    "collapsed": false
   },
   "outputs": [
    {
     "data": {
      "text/html": [
       "<div>\n",
       "<style scoped>\n",
       "    .dataframe tbody tr th:only-of-type {\n",
       "        vertical-align: middle;\n",
       "    }\n",
       "\n",
       "    .dataframe tbody tr th {\n",
       "        vertical-align: top;\n",
       "    }\n",
       "\n",
       "    .dataframe thead th {\n",
       "        text-align: right;\n",
       "    }\n",
       "</style>\n",
       "<table border=\"1\" class=\"dataframe\">\n",
       "  <thead>\n",
       "    <tr style=\"text-align: right;\">\n",
       "      <th></th>\n",
       "      <th>summary</th>\n",
       "      <th>positives</th>\n",
       "      <th>negatives</th>\n",
       "      <th>score_1</th>\n",
       "      <th>score_2</th>\n",
       "      <th>score_3</th>\n",
       "      <th>score_4</th>\n",
       "      <th>score_5</th>\n",
       "      <th>score_6</th>\n",
       "      <th>overall</th>\n",
       "    </tr>\n",
       "  </thead>\n",
       "  <tbody>\n",
       "    <tr>\n",
       "      <th>0</th>\n",
       "      <td>Best Company to work for</td>\n",
       "      <td>People are smart and friendly</td>\n",
       "      <td>Bureaucracy is slowing things down</td>\n",
       "      <td>4.0</td>\n",
       "      <td>5.0</td>\n",
       "      <td>5.0</td>\n",
       "      <td>4.0</td>\n",
       "      <td>5.0</td>\n",
       "      <td>0</td>\n",
       "      <td>5.0</td>\n",
       "    </tr>\n",
       "    <tr>\n",
       "      <th>1</th>\n",
       "      <td>Moving at the speed of light, burn out is inev...</td>\n",
       "      <td>1) Food, food, food. 15+ cafes on main campus ...</td>\n",
       "      <td>1) Work/life balance. What balance? All those ...</td>\n",
       "      <td>2.0</td>\n",
       "      <td>3.0</td>\n",
       "      <td>3.0</td>\n",
       "      <td>5.0</td>\n",
       "      <td>3.0</td>\n",
       "      <td>2094</td>\n",
       "      <td>5.0</td>\n",
       "    </tr>\n",
       "    <tr>\n",
       "      <th>2</th>\n",
       "      <td>Great balance between big-company security and...</td>\n",
       "      <td>* If you're a software engineer, you're among ...</td>\n",
       "      <td>* It *is* becoming larger, and with it comes g...</td>\n",
       "      <td>5.0</td>\n",
       "      <td>4.0</td>\n",
       "      <td>5.0</td>\n",
       "      <td>5.0</td>\n",
       "      <td>4.0</td>\n",
       "      <td>949</td>\n",
       "      <td>5.0</td>\n",
       "    </tr>\n",
       "    <tr>\n",
       "      <th>3</th>\n",
       "      <td>The best place I've worked and also the most d...</td>\n",
       "      <td>You can't find a more well-regarded company th...</td>\n",
       "      <td>I live in SF so the commute can take between 1...</td>\n",
       "      <td>2.0</td>\n",
       "      <td>5.0</td>\n",
       "      <td>5.0</td>\n",
       "      <td>4.0</td>\n",
       "      <td>5.0</td>\n",
       "      <td>498</td>\n",
       "      <td>4.0</td>\n",
       "    </tr>\n",
       "    <tr>\n",
       "      <th>4</th>\n",
       "      <td>Execellent for engineers</td>\n",
       "      <td>Impact driven. Best tech in the world.</td>\n",
       "      <td>Size matters. Engineers are a bit disconnected...</td>\n",
       "      <td>5.0</td>\n",
       "      <td>5.0</td>\n",
       "      <td>5.0</td>\n",
       "      <td>5.0</td>\n",
       "      <td>5.0</td>\n",
       "      <td>0</td>\n",
       "      <td>4.0</td>\n",
       "    </tr>\n",
       "  </tbody>\n",
       "</table>\n",
       "</div>"
      ],
      "text/plain": [
       "                                             summary  \\\n",
       "0                           Best Company to work for   \n",
       "1  Moving at the speed of light, burn out is inev...   \n",
       "2  Great balance between big-company security and...   \n",
       "3  The best place I've worked and also the most d...   \n",
       "4                           Execellent for engineers   \n",
       "\n",
       "                                           positives  \\\n",
       "0                      People are smart and friendly   \n",
       "1  1) Food, food, food. 15+ cafes on main campus ...   \n",
       "2  * If you're a software engineer, you're among ...   \n",
       "3  You can't find a more well-regarded company th...   \n",
       "4             Impact driven. Best tech in the world.   \n",
       "\n",
       "                                           negatives  score_1  score_2  \\\n",
       "0                 Bureaucracy is slowing things down      4.0      5.0   \n",
       "1  1) Work/life balance. What balance? All those ...      2.0      3.0   \n",
       "2  * It *is* becoming larger, and with it comes g...      5.0      4.0   \n",
       "3  I live in SF so the commute can take between 1...      2.0      5.0   \n",
       "4  Size matters. Engineers are a bit disconnected...      5.0      5.0   \n",
       "\n",
       "   score_3  score_4  score_5  score_6  overall  \n",
       "0      5.0      4.0      5.0        0      5.0  \n",
       "1      3.0      5.0      3.0     2094      5.0  \n",
       "2      5.0      5.0      4.0      949      5.0  \n",
       "3      5.0      4.0      5.0      498      4.0  \n",
       "4      5.0      5.0      5.0        0      4.0  "
      ]
     },
     "execution_count": 4,
     "metadata": {},
     "output_type": "execute_result"
    }
   ],
   "source": [
    "df.head()"
   ]
  },
  {
   "cell_type": "code",
   "execution_count": 6,
   "metadata": {
    "collapsed": false
   },
   "outputs": [
    {
     "name": "stdout",
     "output_type": "stream",
     "text": [
      "4.0    6830\n",
      "5.0    6362\n",
      "3.0    6238\n",
      "2.0    3540\n",
      "1.0    3220\n",
      "3.5     352\n",
      "4.5     339\n",
      "2.5     203\n",
      "1.5      66\n",
      "Name: score_1, dtype: int64\n",
      "5.0    9736\n",
      "4.0    6103\n",
      "3.0    4154\n",
      "1.0    2223\n",
      "2.0    2070\n",
      "Name: score_2, dtype: int64\n",
      "5.0    8089\n",
      "4.0    7569\n",
      "3.0    5986\n",
      "2.0    2749\n",
      "1.0    2063\n",
      "3.5     298\n",
      "4.5     183\n",
      "2.5     166\n",
      "1.5      64\n",
      "Name: score_3, dtype: int64\n",
      "5.0    9609\n",
      "4.0    8919\n",
      "3.0    5089\n",
      "2.0    1546\n",
      "1.0     887\n",
      "4.5     473\n",
      "3.5     435\n",
      "2.5     161\n",
      "1.5      26\n",
      "Name: score_4, dtype: int64\n",
      "4.0    7039\n",
      "3.0    6173\n",
      "5.0    6018\n",
      "2.0    3576\n",
      "1.0    3481\n",
      "3.5     192\n",
      "2.5     148\n",
      "4.5     145\n",
      "1.5      79\n",
      "Name: score_5, dtype: int64\n"
     ]
    }
   ],
   "source": [
    "print(df[\"score_1\"].value_counts())\n",
    "print(df[\"score_2\"].value_counts())\n",
    "print(df[\"score_3\"].value_counts())\n",
    "print(df[\"score_4\"].value_counts())\n",
    "print(df[\"score_5\"].value_counts())"
   ]
  },
  {
   "cell_type": "code",
   "execution_count": 4,
   "metadata": {
    "collapsed": false
   },
   "outputs": [],
   "source": [
    "# filling average/max value \n",
    "df[\"score_1\"] = df[\"score_1\"].fillna(3.0)\n",
    "df[\"score_2\"] = df[\"score_2\"].fillna(5.0)\n",
    "df[\"score_3\"] = df[\"score_3\"].fillna(3.0)\n",
    "df[\"score_4\"] = df[\"score_4\"].fillna(4.0)\n",
    "df[\"score_5\"] = df[\"score_5\"].fillna(5.0)\n",
    "df[\"summary\"] = df[\"summary\"].fillna(\"Great Place to work\")"
   ]
  },
  {
   "cell_type": "markdown",
   "metadata": {},
   "source": [
    "#### Text Prepocessing"
   ]
  },
  {
   "cell_type": "code",
   "execution_count": 5,
   "metadata": {
    "collapsed": true
   },
   "outputs": [],
   "source": [
    "# Text processing\n",
    "\n",
    "from nltk.corpus import stopwords\n",
    "sw = stopwords.words(\"english\")\n",
    "\n",
    "import re\n",
    "from nltk.stem.snowball import SnowballStemmer\n",
    "import string\n",
    "\n",
    "def clean_text(text):\n",
    "\n",
    "    ## Remove puncuation\n",
    "    text = text.translate(string.punctuation)\n",
    "\n",
    "    ## Convert words to lower case and split them\n",
    "    text = text.lower().split()\n",
    "\n",
    "    ## Remove stop words\n",
    "    text = [w for w in text if not w in sw and len(w) >= 3]\n",
    "\n",
    "    text = \" \".join(text)\n",
    "    ## Clean the text\n",
    "    text = re.sub(r\"[^A-Za-z0-9^,!.\\/'+-=]\", \" \", text)\n",
    "    text = re.sub(r\"what's\", \"what is \", text)\n",
    "    text = re.sub(r\"\\'s\", \" \", text)\n",
    "    text = re.sub(r\"\\'ve\", \" have \", text)\n",
    "    text = re.sub(r\"n't\", \" not \", text)\n",
    "    text = re.sub(r\"i'm\", \"i am \", text)\n",
    "    text = re.sub(r\"\\'re\", \" are \", text)\n",
    "    text = re.sub(r\"\\'d\", \" would \", text)\n",
    "    text = re.sub(r\"\\'ll\", \" will \", text)\n",
    "    text = re.sub(r\",\", \" \", text)\n",
    "    text = re.sub(r\"\\.\", \" \", text)\n",
    "    text = re.sub(r\"!\", \" ! \", text)\n",
    "    text = re.sub(r\"\\/\", \" \", text)\n",
    "    text = re.sub(r\"\\^\", \" ^ \", text)\n",
    "    text = re.sub(r\"\\+\", \" + \", text)\n",
    "    text = re.sub(r\"\\-\", \" - \", text)\n",
    "    text = re.sub(r\"\\=\", \" = \", text)\n",
    "    text = re.sub(r\"'\", \" \", text)\n",
    "    text = re.sub(r\"(\\d+)(k)\", r\"\\g<1>000\", text)\n",
    "    text = re.sub(r\":\", \" : \", text)\n",
    "    text = re.sub(r\" e g \", \" eg \", text)\n",
    "    text = re.sub(r\" b g \", \" bg \", text)\n",
    "    text = re.sub(r\" u s \", \" american \", text)\n",
    "    text = re.sub(r\"\\0s\", \"0\", text)\n",
    "    text = re.sub(r\" 9 11 \", \"911\", text)\n",
    "    text = re.sub(r\"e - mail\", \"email\", text)\n",
    "    text = re.sub(r\"j k\", \"jk\", text)\n",
    "    text = re.sub(r\"\\s{2,}\", \" \", text)\n",
    "    ## Stemming\n",
    "    txt = text.split()\n",
    "    text = [i for i in txt if i.isalpha()]\n",
    "    stemmer = SnowballStemmer('english')\n",
    "    stemmed_words = [stemmer.stem(word) for word in text]\n",
    "    text = \" \".join(stemmed_words)\n",
    "\n",
    "    return text"
   ]
  },
  {
   "cell_type": "code",
   "execution_count": 6,
   "metadata": {
    "collapsed": true
   },
   "outputs": [],
   "source": [
    "df[\"summary\"] = df[\"summary\"].apply(clean_text)\n",
    "df[\"positives\"] = df[\"positives\"].apply(clean_text)\n",
    "df[\"negatives\"] = df[\"negatives\"].apply(clean_text)"
   ]
  },
  {
   "cell_type": "code",
   "execution_count": 11,
   "metadata": {
    "collapsed": false
   },
   "outputs": [],
   "source": [
    "tf_train_data = pd.concat([df['positives'], df['negatives']])"
   ]
  },
  {
   "cell_type": "code",
   "execution_count": 12,
   "metadata": {
    "collapsed": true
   },
   "outputs": [],
   "source": [
    "from sklearn.feature_extraction.text import TfidfVectorizer\n",
    "tfv = TfidfVectorizer(min_df=3, max_features=1000,\n",
    "strip_accents='unicode', analyzer='word', token_pattern=r'\\w{1,}',\n",
    "ngram_range=(1, 3), use_idf=1, smooth_idf=1, sublinear_tf=1)"
   ]
  },
  {
   "cell_type": "code",
   "execution_count": 13,
   "metadata": {
    "collapsed": false
   },
   "outputs": [
    {
     "data": {
      "text/plain": [
       "TfidfVectorizer(analyzer='word', binary=False, decode_error='strict',\n",
       "        dtype=<class 'numpy.int64'>, encoding='utf-8', input='content',\n",
       "        lowercase=True, max_df=1.0, max_features=1000, min_df=3,\n",
       "        ngram_range=(1, 3), norm='l2', preprocessor=None, smooth_idf=1,\n",
       "        stop_words=None, strip_accents='unicode', sublinear_tf=1,\n",
       "        token_pattern='\\\\w{1,}', tokenizer=None, use_idf=1,\n",
       "        vocabulary=None)"
      ]
     },
     "execution_count": 13,
     "metadata": {},
     "output_type": "execute_result"
    }
   ],
   "source": [
    "tfv.fit(tf_train_data)"
   ]
  },
  {
   "cell_type": "code",
   "execution_count": 48,
   "metadata": {
    "collapsed": false
   },
   "outputs": [],
   "source": [
    "desc1 = tfv.fit_transform(list(df[\"summary\"]))\n",
    "desc2 = tfv.transform(list(df[\"positives\"]))\n",
    "desc3 = tfv.transform(list(df[\"negatives\"]))\n",
    "\n",
    "# truncate the matrix/ array to 20 column\n",
    "from sklearn.decomposition import TruncatedSVD\n",
    "svd = TruncatedSVD(n_components=40)\n",
    "desc1 = svd.fit_transform(desc1)\n",
    "desc2 = svd.fit_transform(desc2)\n",
    "desc3 = svd.fit_transform(desc3)\n",
    "\n",
    "desc1 = pd.DataFrame(desc1, columns=['nlp_1_{}'.format(i) for i in range(40)])\n",
    "desc2 = pd.DataFrame(desc2, columns=['nlp_2_{}'.format(i) for i in range(40)])\n",
    "desc3 = pd.DataFrame(desc3, columns=['nlp_3_{}'.format(i) for i in range(40)])\n",
    "\n",
    "final_df = pd.concat([df,desc2,desc3],axis=1, sort=False)"
   ]
  },
  {
   "cell_type": "code",
   "execution_count": 49,
   "metadata": {
    "collapsed": true
   },
   "outputs": [],
   "source": [
    "Y = final_df[\"overall\"]\n",
    "final_df = final_df.drop([\"summary\",\"positives\", \"negatives\", \"overall\"], axis =1)"
   ]
  },
  {
   "cell_type": "code",
   "execution_count": 50,
   "metadata": {
    "collapsed": false
   },
   "outputs": [
    {
     "data": {
      "text/html": [
       "<div>\n",
       "<style scoped>\n",
       "    .dataframe tbody tr th:only-of-type {\n",
       "        vertical-align: middle;\n",
       "    }\n",
       "\n",
       "    .dataframe tbody tr th {\n",
       "        vertical-align: top;\n",
       "    }\n",
       "\n",
       "    .dataframe thead th {\n",
       "        text-align: right;\n",
       "    }\n",
       "</style>\n",
       "<table border=\"1\" class=\"dataframe\">\n",
       "  <thead>\n",
       "    <tr style=\"text-align: right;\">\n",
       "      <th></th>\n",
       "      <th>score_1</th>\n",
       "      <th>score_2</th>\n",
       "      <th>score_3</th>\n",
       "      <th>score_4</th>\n",
       "      <th>score_5</th>\n",
       "      <th>score_6</th>\n",
       "      <th>nlp_2_0</th>\n",
       "      <th>nlp_2_1</th>\n",
       "      <th>nlp_2_2</th>\n",
       "      <th>nlp_2_3</th>\n",
       "      <th>...</th>\n",
       "      <th>nlp_3_30</th>\n",
       "      <th>nlp_3_31</th>\n",
       "      <th>nlp_3_32</th>\n",
       "      <th>nlp_3_33</th>\n",
       "      <th>nlp_3_34</th>\n",
       "      <th>nlp_3_35</th>\n",
       "      <th>nlp_3_36</th>\n",
       "      <th>nlp_3_37</th>\n",
       "      <th>nlp_3_38</th>\n",
       "      <th>nlp_3_39</th>\n",
       "    </tr>\n",
       "  </thead>\n",
       "  <tbody>\n",
       "    <tr>\n",
       "      <th>0</th>\n",
       "      <td>4.0</td>\n",
       "      <td>5.0</td>\n",
       "      <td>5.0</td>\n",
       "      <td>4.0</td>\n",
       "      <td>5.0</td>\n",
       "      <td>0</td>\n",
       "      <td>0.256700</td>\n",
       "      <td>-0.315508</td>\n",
       "      <td>-0.245085</td>\n",
       "      <td>-0.104157</td>\n",
       "      <td>...</td>\n",
       "      <td>-0.153254</td>\n",
       "      <td>-0.037407</td>\n",
       "      <td>-0.088008</td>\n",
       "      <td>-0.007320</td>\n",
       "      <td>-0.194742</td>\n",
       "      <td>0.261765</td>\n",
       "      <td>0.251933</td>\n",
       "      <td>-0.125418</td>\n",
       "      <td>0.013273</td>\n",
       "      <td>-0.032208</td>\n",
       "    </tr>\n",
       "    <tr>\n",
       "      <th>1</th>\n",
       "      <td>2.0</td>\n",
       "      <td>3.0</td>\n",
       "      <td>3.0</td>\n",
       "      <td>5.0</td>\n",
       "      <td>3.0</td>\n",
       "      <td>2094</td>\n",
       "      <td>0.246814</td>\n",
       "      <td>-0.025985</td>\n",
       "      <td>-0.028924</td>\n",
       "      <td>0.026376</td>\n",
       "      <td>...</td>\n",
       "      <td>0.049169</td>\n",
       "      <td>-0.027655</td>\n",
       "      <td>-0.034571</td>\n",
       "      <td>0.003213</td>\n",
       "      <td>-0.000993</td>\n",
       "      <td>-0.046402</td>\n",
       "      <td>0.034600</td>\n",
       "      <td>0.027009</td>\n",
       "      <td>0.009137</td>\n",
       "      <td>0.010900</td>\n",
       "    </tr>\n",
       "    <tr>\n",
       "      <th>2</th>\n",
       "      <td>5.0</td>\n",
       "      <td>4.0</td>\n",
       "      <td>5.0</td>\n",
       "      <td>5.0</td>\n",
       "      <td>4.0</td>\n",
       "      <td>949</td>\n",
       "      <td>0.309547</td>\n",
       "      <td>-0.144818</td>\n",
       "      <td>0.124553</td>\n",
       "      <td>0.018168</td>\n",
       "      <td>...</td>\n",
       "      <td>-0.003165</td>\n",
       "      <td>-0.126918</td>\n",
       "      <td>0.045242</td>\n",
       "      <td>-0.068055</td>\n",
       "      <td>0.039860</td>\n",
       "      <td>0.137792</td>\n",
       "      <td>-0.012873</td>\n",
       "      <td>-0.059764</td>\n",
       "      <td>0.076429</td>\n",
       "      <td>0.023346</td>\n",
       "    </tr>\n",
       "    <tr>\n",
       "      <th>3</th>\n",
       "      <td>2.0</td>\n",
       "      <td>5.0</td>\n",
       "      <td>5.0</td>\n",
       "      <td>4.0</td>\n",
       "      <td>5.0</td>\n",
       "      <td>498</td>\n",
       "      <td>0.305647</td>\n",
       "      <td>-0.170771</td>\n",
       "      <td>-0.067501</td>\n",
       "      <td>0.074886</td>\n",
       "      <td>...</td>\n",
       "      <td>-0.103069</td>\n",
       "      <td>-0.027513</td>\n",
       "      <td>0.053910</td>\n",
       "      <td>0.046382</td>\n",
       "      <td>-0.006424</td>\n",
       "      <td>0.094134</td>\n",
       "      <td>-0.037048</td>\n",
       "      <td>-0.063302</td>\n",
       "      <td>0.024819</td>\n",
       "      <td>-0.069581</td>\n",
       "    </tr>\n",
       "    <tr>\n",
       "      <th>4</th>\n",
       "      <td>5.0</td>\n",
       "      <td>5.0</td>\n",
       "      <td>5.0</td>\n",
       "      <td>5.0</td>\n",
       "      <td>5.0</td>\n",
       "      <td>0</td>\n",
       "      <td>0.055810</td>\n",
       "      <td>-0.050554</td>\n",
       "      <td>-0.014839</td>\n",
       "      <td>0.001218</td>\n",
       "      <td>...</td>\n",
       "      <td>0.089727</td>\n",
       "      <td>0.039118</td>\n",
       "      <td>0.046491</td>\n",
       "      <td>0.043190</td>\n",
       "      <td>-0.099383</td>\n",
       "      <td>-0.012495</td>\n",
       "      <td>-0.043670</td>\n",
       "      <td>0.110545</td>\n",
       "      <td>0.024121</td>\n",
       "      <td>0.078854</td>\n",
       "    </tr>\n",
       "  </tbody>\n",
       "</table>\n",
       "<p>5 rows × 86 columns</p>\n",
       "</div>"
      ],
      "text/plain": [
       "   score_1  score_2  score_3  score_4  score_5  score_6   nlp_2_0   nlp_2_1  \\\n",
       "0      4.0      5.0      5.0      4.0      5.0        0  0.256700 -0.315508   \n",
       "1      2.0      3.0      3.0      5.0      3.0     2094  0.246814 -0.025985   \n",
       "2      5.0      4.0      5.0      5.0      4.0      949  0.309547 -0.144818   \n",
       "3      2.0      5.0      5.0      4.0      5.0      498  0.305647 -0.170771   \n",
       "4      5.0      5.0      5.0      5.0      5.0        0  0.055810 -0.050554   \n",
       "\n",
       "    nlp_2_2   nlp_2_3    ...     nlp_3_30  nlp_3_31  nlp_3_32  nlp_3_33  \\\n",
       "0 -0.245085 -0.104157    ...    -0.153254 -0.037407 -0.088008 -0.007320   \n",
       "1 -0.028924  0.026376    ...     0.049169 -0.027655 -0.034571  0.003213   \n",
       "2  0.124553  0.018168    ...    -0.003165 -0.126918  0.045242 -0.068055   \n",
       "3 -0.067501  0.074886    ...    -0.103069 -0.027513  0.053910  0.046382   \n",
       "4 -0.014839  0.001218    ...     0.089727  0.039118  0.046491  0.043190   \n",
       "\n",
       "   nlp_3_34  nlp_3_35  nlp_3_36  nlp_3_37  nlp_3_38  nlp_3_39  \n",
       "0 -0.194742  0.261765  0.251933 -0.125418  0.013273 -0.032208  \n",
       "1 -0.000993 -0.046402  0.034600  0.027009  0.009137  0.010900  \n",
       "2  0.039860  0.137792 -0.012873 -0.059764  0.076429  0.023346  \n",
       "3 -0.006424  0.094134 -0.037048 -0.063302  0.024819 -0.069581  \n",
       "4 -0.099383 -0.012495 -0.043670  0.110545  0.024121  0.078854  \n",
       "\n",
       "[5 rows x 86 columns]"
      ]
     },
     "execution_count": 50,
     "metadata": {},
     "output_type": "execute_result"
    }
   ],
   "source": [
    "final_df.head()"
   ]
  },
  {
   "cell_type": "code",
   "execution_count": 51,
   "metadata": {
    "collapsed": true
   },
   "outputs": [],
   "source": [
    "#final_df = final_df.drop([\"score_1\", \"score_2\", \"score_3\",\"score_4\", \"score_5\", \"score_6\"], axis =1)"
   ]
  },
  {
   "cell_type": "code",
   "execution_count": 52,
   "metadata": {
    "collapsed": false
   },
   "outputs": [],
   "source": [
    "from sklearn.model_selection import train_test_split\n",
    "\n",
    "X_train, X_test, Y_train, Y_test = train_test_split(final_df, Y, test_size=0.25, random_state=42)"
   ]
  },
  {
   "cell_type": "markdown",
   "metadata": {},
   "source": [
    "#### Logistic regression"
   ]
  },
  {
   "cell_type": "code",
   "execution_count": 53,
   "metadata": {
    "collapsed": false
   },
   "outputs": [],
   "source": [
    "from sklearn.linear_model import LogisticRegression\n",
    "clf = LogisticRegression(random_state=0, solver='lbfgs', C=1,multi_class='multinomial').fit(X_train, Y_train)\n",
    "Y_pred = clf.predict(X_test)\n",
    "\n",
    "\n",
    "from sklearn.metrics import confusion_matrix\n",
    "cm = confusion_matrix(Y_test, Y_pred)\n",
    "from sklearn.metrics import accuracy_score\n",
    "acc_3 = accuracy_score(Y_test, Y_pred)"
   ]
  },
  {
   "cell_type": "code",
   "execution_count": 54,
   "metadata": {
    "collapsed": false
   },
   "outputs": [
    {
     "data": {
      "text/plain": [
       "0.40400843881856541"
      ]
     },
     "execution_count": 54,
     "metadata": {},
     "output_type": "execute_result"
    }
   ],
   "source": [
    "acc_3"
   ]
  },
  {
   "cell_type": "markdown",
   "metadata": {},
   "source": [
    "#### Decision Tree"
   ]
  },
  {
   "cell_type": "code",
   "execution_count": null,
   "metadata": {
    "collapsed": true
   },
   "outputs": [],
   "source": [
    "from sklearn.tree import DecisionTreeClassifier\n",
    "clf = DecisionTreeClassifier(random_state=0).fit(X_train, Y_train)\n",
    "\n",
    "Y_pred = clf.predict(X_test)\n",
    "\n",
    "acc_DT = accuracy_score(Y_test, Y_pred)"
   ]
  },
  {
   "cell_type": "code",
   "execution_count": null,
   "metadata": {
    "collapsed": false
   },
   "outputs": [],
   "source": [
    "acc_DT"
   ]
  },
  {
   "cell_type": "markdown",
   "metadata": {},
   "source": [
    "#### XGBoost"
   ]
  },
  {
   "cell_type": "code",
   "execution_count": 55,
   "metadata": {
    "collapsed": false
   },
   "outputs": [
    {
     "data": {
      "text/plain": [
       "XGBClassifier(base_score=0.5, booster='dart', colsample_bylevel=1,\n",
       "       colsample_bytree=1, gamma=0, learning_rate=0.1, max_delta_step=0,\n",
       "       max_depth=3, min_child_weight=1, missing=None, n_estimators=300,\n",
       "       n_jobs=1, nthread=None, objective='multi:softprob', random_state=0,\n",
       "       reg_alpha=0, reg_lambda=1, scale_pos_weight=1, seed=None,\n",
       "       silent=True, subsample=1)"
      ]
     },
     "execution_count": 55,
     "metadata": {},
     "output_type": "execute_result"
    }
   ],
   "source": [
    "from xgboost import XGBClassifier\n",
    "\n",
    "\n",
    "xgb = XGBClassifier(learning_rate=0.1,n_estimators=300, booster='dart')\n",
    "xgb.fit(X_train, Y_train)"
   ]
  },
  {
   "cell_type": "code",
   "execution_count": 56,
   "metadata": {
    "collapsed": false
   },
   "outputs": [],
   "source": [
    "Y_test = Y_test.tolist()\n",
    "Y_pred = xgb.predict(X_test)\n",
    "Y_pred = Y_pred.tolist()"
   ]
  },
  {
   "cell_type": "code",
   "execution_count": 57,
   "metadata": {
    "collapsed": true
   },
   "outputs": [],
   "source": [
    "from sklearn.metrics import confusion_matrix\n",
    "cm = confusion_matrix(Y_test, Y_pred)\n",
    "from sklearn.metrics import accuracy_score\n",
    "acc_3 = accuracy_score(Y_test, Y_pred)"
   ]
  },
  {
   "cell_type": "code",
   "execution_count": 58,
   "metadata": {
    "collapsed": false
   },
   "outputs": [
    {
     "data": {
      "text/plain": [
       "0.41323839662447259"
      ]
     },
     "execution_count": 58,
     "metadata": {},
     "output_type": "execute_result"
    }
   ],
   "source": [
    "acc_3"
   ]
  },
  {
   "cell_type": "code",
   "execution_count": null,
   "metadata": {
    "collapsed": false
   },
   "outputs": [],
   "source": [
    "acc_3"
   ]
  },
  {
   "cell_type": "code",
   "execution_count": null,
   "metadata": {
    "collapsed": false
   },
   "outputs": [],
   "source": [
    "Y_test = Y_test.tolist()\n",
    "\n",
    "from sklearn.ensemble import RandomForestClassifier\n",
    "rf = RandomForestClassifier(n_estimators=100, max_depth=2, random_state=0)\n",
    "\n",
    "rf.fit(X_train, Y_train)\n",
    "\n",
    "Y_pred = rf.predict(X_test)\n",
    "\n",
    "\n",
    "Y_pred = Y_pred.tolist()"
   ]
  },
  {
   "cell_type": "code",
   "execution_count": null,
   "metadata": {
    "collapsed": true
   },
   "outputs": [],
   "source": [
    "from sklearn.metrics import confusion_matrix\n",
    "cm = confusion_matrix(Y_test, Y_pred)\n",
    "from sklearn.metrics import accuracy_score\n",
    "acc_3 = accuracy_score(Y_test, Y_pred)"
   ]
  },
  {
   "cell_type": "code",
   "execution_count": null,
   "metadata": {
    "collapsed": false
   },
   "outputs": [],
   "source": [
    "acc_3"
   ]
  },
  {
   "cell_type": "markdown",
   "metadata": {},
   "source": [
    "#### cat boost"
   ]
  },
  {
   "cell_type": "code",
   "execution_count": null,
   "metadata": {
    "collapsed": true
   },
   "outputs": [],
   "source": [
    "from catboost import CatBoostClassifier"
   ]
  },
  {
   "cell_type": "code",
   "execution_count": null,
   "metadata": {
    "collapsed": false
   },
   "outputs": [],
   "source": [
    "model = CatBoostClassifier(\n",
    "    iterations=200,\n",
    "    learning_rate=1,\n",
    "    loss_function='MultiClass',\n",
    "    depth = 2\n",
    "    # loss_function='CrossEntropy'\n",
    ")\n",
    "model.fit(\n",
    "    X_train, Y_train,\n",
    "    #cat_features=cat_features,\n",
    "    eval_set=(X_test, Y_test),\n",
    "    verbose=False\n",
    "    \n",
    ")\n",
    "print('Model is fitted: ' + str(model.is_fitted()))\n",
    "print('Model params:')\n",
    "print(model.get_params())"
   ]
  },
  {
   "cell_type": "code",
   "execution_count": null,
   "metadata": {
    "collapsed": true
   },
   "outputs": [],
   "source": [
    "Y_pred = model.predict(data=X_test)"
   ]
  },
  {
   "cell_type": "code",
   "execution_count": null,
   "metadata": {
    "collapsed": false
   },
   "outputs": [],
   "source": [
    "Y_pred = Y_pred.tolist()"
   ]
  },
  {
   "cell_type": "code",
   "execution_count": null,
   "metadata": {
    "collapsed": false
   },
   "outputs": [],
   "source": [
    "Y_pred = [int(Y_pred[i][0]) for i in range(len(Y_pred))]"
   ]
  },
  {
   "cell_type": "code",
   "execution_count": null,
   "metadata": {
    "collapsed": true
   },
   "outputs": [],
   "source": [
    "from sklearn.metrics import confusion_matrix\n",
    "cm = confusion_matrix(Y_test, Y_pred)\n",
    "from sklearn.metrics import accuracy_score\n",
    "acc_3 = accuracy_score(Y_test, Y_pred)"
   ]
  },
  {
   "cell_type": "code",
   "execution_count": null,
   "metadata": {
    "collapsed": false
   },
   "outputs": [],
   "source": [
    "acc_3"
   ]
  },
  {
   "cell_type": "code",
   "execution_count": null,
   "metadata": {
    "collapsed": true
   },
   "outputs": [],
   "source": []
  },
  {
   "cell_type": "markdown",
   "metadata": {},
   "source": [
    "#### Test_File"
   ]
  },
  {
   "cell_type": "code",
   "execution_count": 60,
   "metadata": {
    "collapsed": true
   },
   "outputs": [],
   "source": [
    "test = pd.read_csv(\"test.csv\")"
   ]
  },
  {
   "cell_type": "code",
   "execution_count": 61,
   "metadata": {
    "collapsed": true
   },
   "outputs": [],
   "source": [
    "test = test.drop([\"Place\", \"ID\", \"date\", \"status\", \"job_title\", \"advice_to_mgmt\", \"location\"], axis=1)"
   ]
  },
  {
   "cell_type": "code",
   "execution_count": 62,
   "metadata": {
    "collapsed": true
   },
   "outputs": [],
   "source": [
    "test[\"score_1\"] = test[\"score_1\"].fillna(3.0)\n",
    "test[\"score_2\"] = test[\"score_2\"].fillna(5.0)\n",
    "test[\"score_3\"] = test[\"score_3\"].fillna(3.0)\n",
    "test[\"score_4\"] = test[\"score_4\"].fillna(4.0)\n",
    "test[\"score_5\"] = test[\"score_5\"].fillna(5.0)\n",
    "test[\"summary\"] = test[\"summary\"].fillna(\"Great Place to work\")"
   ]
  },
  {
   "cell_type": "code",
   "execution_count": 63,
   "metadata": {
    "collapsed": false
   },
   "outputs": [],
   "source": [
    "test[\"negatives\"]= test[\"negatives\"].fillna(\"None that I can think of.\")"
   ]
  },
  {
   "cell_type": "code",
   "execution_count": 64,
   "metadata": {
    "collapsed": false
   },
   "outputs": [],
   "source": [
    "test[\"summary\"] = test[\"summary\"].apply(clean_text)\n",
    "test[\"positives\"] = test[\"positives\"].apply(clean_text)\n",
    "test[\"negatives\"] = test[\"negatives\"].apply(clean_text)"
   ]
  },
  {
   "cell_type": "code",
   "execution_count": 65,
   "metadata": {
    "collapsed": false
   },
   "outputs": [],
   "source": [
    "#desc1 = tfv.fit_transform(list(test[\"summary\"]))\n",
    "desc2 = tfv.transform(list(test[\"positives\"]))\n",
    "desc3 = tfv.transform(list(test[\"negatives\"]))\n",
    "\n",
    "#desc1 = svd.fit_transform(desc1)\n",
    "desc2 = svd.fit_transform(desc2)\n",
    "desc3 = svd.fit_transform(desc3)\n",
    "\n",
    "#desc1 = pd.DataFrame(desc1, columns=['nlp_1_{}'.format(i) for i in range(20)])\n",
    "desc2 = pd.DataFrame(desc2, columns=['nlp_2_{}'.format(i) for i in range(40)])\n",
    "desc3 = pd.DataFrame(desc3, columns=['nlp_3_{}'.format(i) for i in range(40)])\n",
    "\n",
    "final_df_test = pd.concat([test,desc2,desc3],axis=1, sort=False)"
   ]
  },
  {
   "cell_type": "code",
   "execution_count": 66,
   "metadata": {
    "collapsed": true
   },
   "outputs": [],
   "source": [
    "final_df_test = final_df_test.drop([\"summary\", \"positives\", \"negatives\"], axis=1)"
   ]
  },
  {
   "cell_type": "code",
   "execution_count": 67,
   "metadata": {
    "collapsed": false
   },
   "outputs": [
    {
     "data": {
      "text/html": [
       "<div>\n",
       "<style scoped>\n",
       "    .dataframe tbody tr th:only-of-type {\n",
       "        vertical-align: middle;\n",
       "    }\n",
       "\n",
       "    .dataframe tbody tr th {\n",
       "        vertical-align: top;\n",
       "    }\n",
       "\n",
       "    .dataframe thead th {\n",
       "        text-align: right;\n",
       "    }\n",
       "</style>\n",
       "<table border=\"1\" class=\"dataframe\">\n",
       "  <thead>\n",
       "    <tr style=\"text-align: right;\">\n",
       "      <th></th>\n",
       "      <th>score_1</th>\n",
       "      <th>score_2</th>\n",
       "      <th>score_3</th>\n",
       "      <th>score_4</th>\n",
       "      <th>score_5</th>\n",
       "      <th>score_6</th>\n",
       "      <th>nlp_2_0</th>\n",
       "      <th>nlp_2_1</th>\n",
       "      <th>nlp_2_2</th>\n",
       "      <th>nlp_2_3</th>\n",
       "      <th>...</th>\n",
       "      <th>nlp_3_30</th>\n",
       "      <th>nlp_3_31</th>\n",
       "      <th>nlp_3_32</th>\n",
       "      <th>nlp_3_33</th>\n",
       "      <th>nlp_3_34</th>\n",
       "      <th>nlp_3_35</th>\n",
       "      <th>nlp_3_36</th>\n",
       "      <th>nlp_3_37</th>\n",
       "      <th>nlp_3_38</th>\n",
       "      <th>nlp_3_39</th>\n",
       "    </tr>\n",
       "  </thead>\n",
       "  <tbody>\n",
       "    <tr>\n",
       "      <th>0</th>\n",
       "      <td>5</td>\n",
       "      <td>5</td>\n",
       "      <td>5</td>\n",
       "      <td>5</td>\n",
       "      <td>5</td>\n",
       "      <td>49</td>\n",
       "      <td>0.390834</td>\n",
       "      <td>-0.195544</td>\n",
       "      <td>0.067739</td>\n",
       "      <td>-0.085525</td>\n",
       "      <td>...</td>\n",
       "      <td>-0.044793</td>\n",
       "      <td>-0.025591</td>\n",
       "      <td>0.055054</td>\n",
       "      <td>0.041824</td>\n",
       "      <td>-0.035216</td>\n",
       "      <td>-0.110948</td>\n",
       "      <td>-0.035874</td>\n",
       "      <td>-0.003658</td>\n",
       "      <td>0.012142</td>\n",
       "      <td>0.055254</td>\n",
       "    </tr>\n",
       "    <tr>\n",
       "      <th>1</th>\n",
       "      <td>4</td>\n",
       "      <td>4</td>\n",
       "      <td>4</td>\n",
       "      <td>5</td>\n",
       "      <td>4</td>\n",
       "      <td>1</td>\n",
       "      <td>0.205144</td>\n",
       "      <td>-0.174499</td>\n",
       "      <td>-0.115875</td>\n",
       "      <td>-0.031276</td>\n",
       "      <td>...</td>\n",
       "      <td>-0.099369</td>\n",
       "      <td>-0.129594</td>\n",
       "      <td>0.013185</td>\n",
       "      <td>-0.029079</td>\n",
       "      <td>-0.041803</td>\n",
       "      <td>0.143983</td>\n",
       "      <td>-0.027241</td>\n",
       "      <td>-0.026675</td>\n",
       "      <td>0.041362</td>\n",
       "      <td>-0.044608</td>\n",
       "    </tr>\n",
       "    <tr>\n",
       "      <th>2</th>\n",
       "      <td>5</td>\n",
       "      <td>4</td>\n",
       "      <td>4</td>\n",
       "      <td>5</td>\n",
       "      <td>4</td>\n",
       "      <td>0</td>\n",
       "      <td>0.348355</td>\n",
       "      <td>-0.159631</td>\n",
       "      <td>0.653501</td>\n",
       "      <td>0.143479</td>\n",
       "      <td>...</td>\n",
       "      <td>-0.042463</td>\n",
       "      <td>-0.106183</td>\n",
       "      <td>0.116946</td>\n",
       "      <td>-0.194297</td>\n",
       "      <td>0.015419</td>\n",
       "      <td>0.071907</td>\n",
       "      <td>0.042702</td>\n",
       "      <td>-0.129840</td>\n",
       "      <td>-0.044489</td>\n",
       "      <td>0.055303</td>\n",
       "    </tr>\n",
       "    <tr>\n",
       "      <th>3</th>\n",
       "      <td>5</td>\n",
       "      <td>5</td>\n",
       "      <td>5</td>\n",
       "      <td>5</td>\n",
       "      <td>5</td>\n",
       "      <td>0</td>\n",
       "      <td>0.435898</td>\n",
       "      <td>0.026453</td>\n",
       "      <td>-0.090527</td>\n",
       "      <td>0.181535</td>\n",
       "      <td>...</td>\n",
       "      <td>0.038608</td>\n",
       "      <td>-0.041113</td>\n",
       "      <td>-0.030246</td>\n",
       "      <td>0.049204</td>\n",
       "      <td>0.021807</td>\n",
       "      <td>0.051377</td>\n",
       "      <td>0.004602</td>\n",
       "      <td>0.021222</td>\n",
       "      <td>-0.035577</td>\n",
       "      <td>0.000709</td>\n",
       "    </tr>\n",
       "    <tr>\n",
       "      <th>4</th>\n",
       "      <td>5</td>\n",
       "      <td>5</td>\n",
       "      <td>5</td>\n",
       "      <td>5</td>\n",
       "      <td>5</td>\n",
       "      <td>0</td>\n",
       "      <td>0.147673</td>\n",
       "      <td>-0.014842</td>\n",
       "      <td>-0.002035</td>\n",
       "      <td>-0.056914</td>\n",
       "      <td>...</td>\n",
       "      <td>-0.031555</td>\n",
       "      <td>-0.043925</td>\n",
       "      <td>-0.065572</td>\n",
       "      <td>-0.058551</td>\n",
       "      <td>-0.025958</td>\n",
       "      <td>-0.036685</td>\n",
       "      <td>-0.012644</td>\n",
       "      <td>-0.019774</td>\n",
       "      <td>0.040902</td>\n",
       "      <td>-0.044799</td>\n",
       "    </tr>\n",
       "  </tbody>\n",
       "</table>\n",
       "<p>5 rows × 86 columns</p>\n",
       "</div>"
      ],
      "text/plain": [
       "   score_1  score_2  score_3  score_4  score_5  score_6   nlp_2_0   nlp_2_1  \\\n",
       "0        5        5        5        5        5       49  0.390834 -0.195544   \n",
       "1        4        4        4        5        4        1  0.205144 -0.174499   \n",
       "2        5        4        4        5        4        0  0.348355 -0.159631   \n",
       "3        5        5        5        5        5        0  0.435898  0.026453   \n",
       "4        5        5        5        5        5        0  0.147673 -0.014842   \n",
       "\n",
       "    nlp_2_2   nlp_2_3    ...     nlp_3_30  nlp_3_31  nlp_3_32  nlp_3_33  \\\n",
       "0  0.067739 -0.085525    ...    -0.044793 -0.025591  0.055054  0.041824   \n",
       "1 -0.115875 -0.031276    ...    -0.099369 -0.129594  0.013185 -0.029079   \n",
       "2  0.653501  0.143479    ...    -0.042463 -0.106183  0.116946 -0.194297   \n",
       "3 -0.090527  0.181535    ...     0.038608 -0.041113 -0.030246  0.049204   \n",
       "4 -0.002035 -0.056914    ...    -0.031555 -0.043925 -0.065572 -0.058551   \n",
       "\n",
       "   nlp_3_34  nlp_3_35  nlp_3_36  nlp_3_37  nlp_3_38  nlp_3_39  \n",
       "0 -0.035216 -0.110948 -0.035874 -0.003658  0.012142  0.055254  \n",
       "1 -0.041803  0.143983 -0.027241 -0.026675  0.041362 -0.044608  \n",
       "2  0.015419  0.071907  0.042702 -0.129840 -0.044489  0.055303  \n",
       "3  0.021807  0.051377  0.004602  0.021222 -0.035577  0.000709  \n",
       "4 -0.025958 -0.036685 -0.012644 -0.019774  0.040902 -0.044799  \n",
       "\n",
       "[5 rows x 86 columns]"
      ]
     },
     "execution_count": 67,
     "metadata": {},
     "output_type": "execute_result"
    }
   ],
   "source": [
    "final_df_test.head()"
   ]
  },
  {
   "cell_type": "code",
   "execution_count": 74,
   "metadata": {
    "collapsed": false
   },
   "outputs": [],
   "source": [
    "Pred = clf.predict(final_df_test)"
   ]
  },
  {
   "cell_type": "code",
   "execution_count": 75,
   "metadata": {
    "collapsed": true
   },
   "outputs": [],
   "source": [
    "Pred_f = Pred.tolist()"
   ]
  },
  {
   "cell_type": "code",
   "execution_count": 76,
   "metadata": {
    "collapsed": true
   },
   "outputs": [],
   "source": [
    "# Used for Catboost\n",
    "#Pred_f = [int(Pred_f[i][0]) for i in range(len(Pred_f))]"
   ]
  },
  {
   "cell_type": "code",
   "execution_count": 77,
   "metadata": {
    "collapsed": true
   },
   "outputs": [],
   "source": [
    "test_df = pd.read_csv(\"test.csv\")"
   ]
  },
  {
   "cell_type": "code",
   "execution_count": 78,
   "metadata": {
    "collapsed": true
   },
   "outputs": [],
   "source": [
    "submit = pd.DataFrame({\"overall\":Pred_f})\n",
    "submit.insert(loc=0, column='ID', value=test_df[\"ID\"])"
   ]
  },
  {
   "cell_type": "code",
   "execution_count": 79,
   "metadata": {
    "collapsed": true
   },
   "outputs": [],
   "source": [
    "submit.to_csv('submission_final.csv',index=False)"
   ]
  },
  {
   "cell_type": "code",
   "execution_count": null,
   "metadata": {
    "collapsed": false
   },
   "outputs": [],
   "source": [
    "submit"
   ]
  },
  {
   "cell_type": "code",
   "execution_count": null,
   "metadata": {
    "collapsed": true
   },
   "outputs": [],
   "source": []
  }
 ],
 "metadata": {
  "kernelspec": {
   "display_name": "Python 3",
   "language": "python",
   "name": "python3"
  },
  "language_info": {
   "codemirror_mode": {
    "name": "ipython",
    "version": 3
   },
   "file_extension": ".py",
   "mimetype": "text/x-python",
   "name": "python",
   "nbconvert_exporter": "python",
   "pygments_lexer": "ipython3",
   "version": "3.5.5"
  }
 },
 "nbformat": 4,
 "nbformat_minor": 0
}
